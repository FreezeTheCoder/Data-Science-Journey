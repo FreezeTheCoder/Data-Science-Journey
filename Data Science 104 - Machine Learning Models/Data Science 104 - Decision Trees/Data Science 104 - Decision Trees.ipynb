{
 "cells": [
  {
   "cell_type": "markdown",
   "id": "db6021dc",
   "metadata": {},
   "source": [
    "## Importing Essential Libraries"
   ]
  },
  {
   "cell_type": "code",
   "execution_count": 18,
   "id": "bbae3634",
   "metadata": {},
   "outputs": [],
   "source": [
    "import pandas as pd\n",
    "import numpy as np\n",
    "import matplotlib.pyplot as plt\n",
    "from sklearn.model_selection import train_test_split\n",
    "from sklearn.preprocessing import LabelEncoder\n",
    "from sklearn import tree\n",
    "from sklearn.tree import DecisionTreeClassifier\n",
    "from sklearn.metrics import accuracy_score\n",
    "import warnings\n",
    "warnings.filterwarnings('ignore')"
   ]
  },
  {
   "cell_type": "markdown",
   "id": "c34b578e",
   "metadata": {},
   "source": [
    "## Reading the CSV file, checking for unique values, null values"
   ]
  },
  {
   "cell_type": "code",
   "execution_count": 2,
   "id": "fa156925",
   "metadata": {},
   "outputs": [],
   "source": [
    "df = pd.read_csv(r'E:\\Learning Data Science With Python\\Data Science 104 - Machine Learning Models\\Data Science 104 - Decision Trees\\car_evaluation.csv')"
   ]
  },
  {
   "cell_type": "code",
   "execution_count": 3,
   "id": "71ed921a",
   "metadata": {},
   "outputs": [
    {
     "data": {
      "text/html": [
       "<div>\n",
       "<style scoped>\n",
       "    .dataframe tbody tr th:only-of-type {\n",
       "        vertical-align: middle;\n",
       "    }\n",
       "\n",
       "    .dataframe tbody tr th {\n",
       "        vertical-align: top;\n",
       "    }\n",
       "\n",
       "    .dataframe thead th {\n",
       "        text-align: right;\n",
       "    }\n",
       "</style>\n",
       "<table border=\"1\" class=\"dataframe\">\n",
       "  <thead>\n",
       "    <tr style=\"text-align: right;\">\n",
       "      <th></th>\n",
       "      <th>Price</th>\n",
       "      <th>Maintenance</th>\n",
       "      <th>Doors</th>\n",
       "      <th>Persons</th>\n",
       "      <th>Boot</th>\n",
       "      <th>Safety</th>\n",
       "      <th>Class</th>\n",
       "    </tr>\n",
       "  </thead>\n",
       "  <tbody>\n",
       "    <tr>\n",
       "      <th>0</th>\n",
       "      <td>vhigh</td>\n",
       "      <td>vhigh</td>\n",
       "      <td>2</td>\n",
       "      <td>2</td>\n",
       "      <td>small</td>\n",
       "      <td>low</td>\n",
       "      <td>unacc</td>\n",
       "    </tr>\n",
       "    <tr>\n",
       "      <th>1</th>\n",
       "      <td>vhigh</td>\n",
       "      <td>vhigh</td>\n",
       "      <td>2</td>\n",
       "      <td>2</td>\n",
       "      <td>small</td>\n",
       "      <td>med</td>\n",
       "      <td>unacc</td>\n",
       "    </tr>\n",
       "    <tr>\n",
       "      <th>2</th>\n",
       "      <td>vhigh</td>\n",
       "      <td>vhigh</td>\n",
       "      <td>2</td>\n",
       "      <td>2</td>\n",
       "      <td>small</td>\n",
       "      <td>high</td>\n",
       "      <td>unacc</td>\n",
       "    </tr>\n",
       "    <tr>\n",
       "      <th>3</th>\n",
       "      <td>vhigh</td>\n",
       "      <td>vhigh</td>\n",
       "      <td>2</td>\n",
       "      <td>2</td>\n",
       "      <td>med</td>\n",
       "      <td>low</td>\n",
       "      <td>unacc</td>\n",
       "    </tr>\n",
       "    <tr>\n",
       "      <th>4</th>\n",
       "      <td>vhigh</td>\n",
       "      <td>vhigh</td>\n",
       "      <td>2</td>\n",
       "      <td>2</td>\n",
       "      <td>med</td>\n",
       "      <td>med</td>\n",
       "      <td>unacc</td>\n",
       "    </tr>\n",
       "  </tbody>\n",
       "</table>\n",
       "</div>"
      ],
      "text/plain": [
       "   Price Maintenance Doors Persons   Boot Safety  Class\n",
       "0  vhigh       vhigh     2       2  small    low  unacc\n",
       "1  vhigh       vhigh     2       2  small    med  unacc\n",
       "2  vhigh       vhigh     2       2  small   high  unacc\n",
       "3  vhigh       vhigh     2       2    med    low  unacc\n",
       "4  vhigh       vhigh     2       2    med    med  unacc"
      ]
     },
     "execution_count": 3,
     "metadata": {},
     "output_type": "execute_result"
    }
   ],
   "source": [
    "df.head()"
   ]
  },
  {
   "cell_type": "code",
   "execution_count": 4,
   "id": "78760da2",
   "metadata": {},
   "outputs": [
    {
     "name": "stdout",
     "output_type": "stream",
     "text": [
      "Price\n",
      "vhigh    432\n",
      "high     432\n",
      "med      432\n",
      "low      432\n",
      "Name: count, dtype: int64\n",
      "Maintenance\n",
      "vhigh    432\n",
      "high     432\n",
      "med      432\n",
      "low      432\n",
      "Name: count, dtype: int64\n",
      "Doors\n",
      "2        432\n",
      "3        432\n",
      "4        432\n",
      "5more    432\n",
      "Name: count, dtype: int64\n",
      "Persons\n",
      "2       576\n",
      "4       576\n",
      "more    576\n",
      "Name: count, dtype: int64\n",
      "Boot\n",
      "small    576\n",
      "med      576\n",
      "big      576\n",
      "Name: count, dtype: int64\n",
      "Safety\n",
      "low     576\n",
      "med     576\n",
      "high    576\n",
      "Name: count, dtype: int64\n",
      "Class\n",
      "unacc    1210\n",
      "acc       384\n",
      "good       69\n",
      "vgood      65\n",
      "Name: count, dtype: int64\n"
     ]
    }
   ],
   "source": [
    "for col in df:\n",
    "    print(df[col].value_counts())"
   ]
  },
  {
   "cell_type": "markdown",
   "id": "4c2d175c",
   "metadata": {},
   "source": [
    "## Encoding the Data for Decision Tree Classifier.\n",
    "\n",
    "* Decision Trees work primarily on numeric data. \n",
    "* Categorical data can be encoded in multiple ways.\n",
    "* We are using the LabelEncoder() module from sklearn.preprocessing in this example."
   ]
  },
  {
   "cell_type": "code",
   "execution_count": 5,
   "id": "40bb3561",
   "metadata": {},
   "outputs": [],
   "source": [
    "le = LabelEncoder()\n",
    "encoded_Price = le.fit_transform(df['Price'])\n",
    "encoded_Maintenance = le.fit_transform(df['Maintenance'])\n",
    "encoded_Doors = le.fit_transform(df['Doors'])\n",
    "encoded_Persons = le.fit_transform(df['Persons'])\n",
    "encoded_Boot = le.fit_transform(df['Boot'])\n",
    "encoded_Safety = le.fit_transform(df['Safety'])\n",
    "encoded_Class = le.fit_transform(df['Class'])\n",
    "df['Price'] = encoded_Price\n",
    "df['Maintenance'] = encoded_Maintenance\n",
    "df['Doors'] = encoded_Doors\n",
    "df['Persons'] = encoded_Persons\n",
    "df['Boot'] = encoded_Boot\n",
    "df['Safety'] = encoded_Safety\n",
    "df['Class'] = encoded_Class"
   ]
  },
  {
   "cell_type": "code",
   "execution_count": 6,
   "id": "9c57e125",
   "metadata": {},
   "outputs": [
    {
     "data": {
      "text/html": [
       "<div>\n",
       "<style scoped>\n",
       "    .dataframe tbody tr th:only-of-type {\n",
       "        vertical-align: middle;\n",
       "    }\n",
       "\n",
       "    .dataframe tbody tr th {\n",
       "        vertical-align: top;\n",
       "    }\n",
       "\n",
       "    .dataframe thead th {\n",
       "        text-align: right;\n",
       "    }\n",
       "</style>\n",
       "<table border=\"1\" class=\"dataframe\">\n",
       "  <thead>\n",
       "    <tr style=\"text-align: right;\">\n",
       "      <th></th>\n",
       "      <th>Price</th>\n",
       "      <th>Maintenance</th>\n",
       "      <th>Doors</th>\n",
       "      <th>Persons</th>\n",
       "      <th>Boot</th>\n",
       "      <th>Safety</th>\n",
       "      <th>Class</th>\n",
       "    </tr>\n",
       "  </thead>\n",
       "  <tbody>\n",
       "    <tr>\n",
       "      <th>0</th>\n",
       "      <td>3</td>\n",
       "      <td>3</td>\n",
       "      <td>0</td>\n",
       "      <td>0</td>\n",
       "      <td>2</td>\n",
       "      <td>1</td>\n",
       "      <td>2</td>\n",
       "    </tr>\n",
       "    <tr>\n",
       "      <th>1</th>\n",
       "      <td>3</td>\n",
       "      <td>3</td>\n",
       "      <td>0</td>\n",
       "      <td>0</td>\n",
       "      <td>2</td>\n",
       "      <td>2</td>\n",
       "      <td>2</td>\n",
       "    </tr>\n",
       "    <tr>\n",
       "      <th>2</th>\n",
       "      <td>3</td>\n",
       "      <td>3</td>\n",
       "      <td>0</td>\n",
       "      <td>0</td>\n",
       "      <td>2</td>\n",
       "      <td>0</td>\n",
       "      <td>2</td>\n",
       "    </tr>\n",
       "    <tr>\n",
       "      <th>3</th>\n",
       "      <td>3</td>\n",
       "      <td>3</td>\n",
       "      <td>0</td>\n",
       "      <td>0</td>\n",
       "      <td>1</td>\n",
       "      <td>1</td>\n",
       "      <td>2</td>\n",
       "    </tr>\n",
       "    <tr>\n",
       "      <th>4</th>\n",
       "      <td>3</td>\n",
       "      <td>3</td>\n",
       "      <td>0</td>\n",
       "      <td>0</td>\n",
       "      <td>1</td>\n",
       "      <td>2</td>\n",
       "      <td>2</td>\n",
       "    </tr>\n",
       "  </tbody>\n",
       "</table>\n",
       "</div>"
      ],
      "text/plain": [
       "   Price  Maintenance  Doors  Persons  Boot  Safety  Class\n",
       "0      3            3      0        0     2       1      2\n",
       "1      3            3      0        0     2       2      2\n",
       "2      3            3      0        0     2       0      2\n",
       "3      3            3      0        0     1       1      2\n",
       "4      3            3      0        0     1       2      2"
      ]
     },
     "execution_count": 6,
     "metadata": {},
     "output_type": "execute_result"
    }
   ],
   "source": [
    "df.head()"
   ]
  },
  {
   "cell_type": "code",
   "execution_count": 7,
   "id": "f88499d8",
   "metadata": {},
   "outputs": [
    {
     "name": "stdout",
     "output_type": "stream",
     "text": [
      "Price\n",
      "3    432\n",
      "0    432\n",
      "2    432\n",
      "1    432\n",
      "Name: count, dtype: int64\n",
      "Maintenance\n",
      "3    432\n",
      "0    432\n",
      "2    432\n",
      "1    432\n",
      "Name: count, dtype: int64\n",
      "Doors\n",
      "0    432\n",
      "1    432\n",
      "2    432\n",
      "3    432\n",
      "Name: count, dtype: int64\n",
      "Persons\n",
      "0    576\n",
      "1    576\n",
      "2    576\n",
      "Name: count, dtype: int64\n",
      "Boot\n",
      "2    576\n",
      "1    576\n",
      "0    576\n",
      "Name: count, dtype: int64\n",
      "Safety\n",
      "1    576\n",
      "2    576\n",
      "0    576\n",
      "Name: count, dtype: int64\n",
      "Class\n",
      "2    1210\n",
      "0     384\n",
      "1      69\n",
      "3      65\n",
      "Name: count, dtype: int64\n"
     ]
    }
   ],
   "source": [
    "for col in df:\n",
    "    print(df[col].value_counts())"
   ]
  },
  {
   "cell_type": "markdown",
   "id": "badbe4a5",
   "metadata": {},
   "source": [
    "## Starting our Classification with Decision Trees\n",
    "\n",
    "* We will first drop the target variable and assign it to the 'y' variable."
   ]
  },
  {
   "cell_type": "code",
   "execution_count": 8,
   "id": "599feefd",
   "metadata": {},
   "outputs": [],
   "source": [
    "x = df.drop('Class', axis='columns')\n",
    "y = df['Class']"
   ]
  },
  {
   "cell_type": "markdown",
   "id": "27250de8",
   "metadata": {},
   "source": [
    "* Here, we will split the data 80% for training and 20% for testing.\n",
    "* The random_state parameter helps us with reproducability of the code."
   ]
  },
  {
   "cell_type": "code",
   "execution_count": 9,
   "id": "5e6962fe",
   "metadata": {},
   "outputs": [],
   "source": [
    "x_train, x_test, y_train, y_test = train_test_split(x, y, test_size = 0.2, random_state = 69)"
   ]
  },
  {
   "cell_type": "code",
   "execution_count": 10,
   "id": "29acb924",
   "metadata": {},
   "outputs": [
    {
     "data": {
      "text/plain": [
       "((1382, 6), (346, 6), (1382,), (346,))"
      ]
     },
     "execution_count": 10,
     "metadata": {},
     "output_type": "execute_result"
    }
   ],
   "source": [
    "x_train.shape, x_test.shape, y_train.shape, y_test.shape"
   ]
  },
  {
   "cell_type": "markdown",
   "id": "c6a5ba48",
   "metadata": {},
   "source": [
    "* We will use the 'gini' criterion for our decision tree. \n",
    "* We can also use the 'entropy' criterion.\n",
    "* These parameters are mathematical computations for information gain. The lesser the information gain, the lower the accuracy of the model.\n",
    "* Thus, it is better for us to choose a model with a higher information gain."
   ]
  },
  {
   "cell_type": "code",
   "execution_count": 23,
   "id": "52a350fe",
   "metadata": {},
   "outputs": [
    {
     "data": {
      "text/html": [
       "<style>#sk-container-id-2 {color: black;}#sk-container-id-2 pre{padding: 0;}#sk-container-id-2 div.sk-toggleable {background-color: white;}#sk-container-id-2 label.sk-toggleable__label {cursor: pointer;display: block;width: 100%;margin-bottom: 0;padding: 0.3em;box-sizing: border-box;text-align: center;}#sk-container-id-2 label.sk-toggleable__label-arrow:before {content: \"▸\";float: left;margin-right: 0.25em;color: #696969;}#sk-container-id-2 label.sk-toggleable__label-arrow:hover:before {color: black;}#sk-container-id-2 div.sk-estimator:hover label.sk-toggleable__label-arrow:before {color: black;}#sk-container-id-2 div.sk-toggleable__content {max-height: 0;max-width: 0;overflow: hidden;text-align: left;background-color: #f0f8ff;}#sk-container-id-2 div.sk-toggleable__content pre {margin: 0.2em;color: black;border-radius: 0.25em;background-color: #f0f8ff;}#sk-container-id-2 input.sk-toggleable__control:checked~div.sk-toggleable__content {max-height: 200px;max-width: 100%;overflow: auto;}#sk-container-id-2 input.sk-toggleable__control:checked~label.sk-toggleable__label-arrow:before {content: \"▾\";}#sk-container-id-2 div.sk-estimator input.sk-toggleable__control:checked~label.sk-toggleable__label {background-color: #d4ebff;}#sk-container-id-2 div.sk-label input.sk-toggleable__control:checked~label.sk-toggleable__label {background-color: #d4ebff;}#sk-container-id-2 input.sk-hidden--visually {border: 0;clip: rect(1px 1px 1px 1px);clip: rect(1px, 1px, 1px, 1px);height: 1px;margin: -1px;overflow: hidden;padding: 0;position: absolute;width: 1px;}#sk-container-id-2 div.sk-estimator {font-family: monospace;background-color: #f0f8ff;border: 1px dotted black;border-radius: 0.25em;box-sizing: border-box;margin-bottom: 0.5em;}#sk-container-id-2 div.sk-estimator:hover {background-color: #d4ebff;}#sk-container-id-2 div.sk-parallel-item::after {content: \"\";width: 100%;border-bottom: 1px solid gray;flex-grow: 1;}#sk-container-id-2 div.sk-label:hover label.sk-toggleable__label {background-color: #d4ebff;}#sk-container-id-2 div.sk-serial::before {content: \"\";position: absolute;border-left: 1px solid gray;box-sizing: border-box;top: 0;bottom: 0;left: 50%;z-index: 0;}#sk-container-id-2 div.sk-serial {display: flex;flex-direction: column;align-items: center;background-color: white;padding-right: 0.2em;padding-left: 0.2em;position: relative;}#sk-container-id-2 div.sk-item {position: relative;z-index: 1;}#sk-container-id-2 div.sk-parallel {display: flex;align-items: stretch;justify-content: center;background-color: white;position: relative;}#sk-container-id-2 div.sk-item::before, #sk-container-id-2 div.sk-parallel-item::before {content: \"\";position: absolute;border-left: 1px solid gray;box-sizing: border-box;top: 0;bottom: 0;left: 50%;z-index: -1;}#sk-container-id-2 div.sk-parallel-item {display: flex;flex-direction: column;z-index: 1;position: relative;background-color: white;}#sk-container-id-2 div.sk-parallel-item:first-child::after {align-self: flex-end;width: 50%;}#sk-container-id-2 div.sk-parallel-item:last-child::after {align-self: flex-start;width: 50%;}#sk-container-id-2 div.sk-parallel-item:only-child::after {width: 0;}#sk-container-id-2 div.sk-dashed-wrapped {border: 1px dashed gray;margin: 0 0.4em 0.5em 0.4em;box-sizing: border-box;padding-bottom: 0.4em;background-color: white;}#sk-container-id-2 div.sk-label label {font-family: monospace;font-weight: bold;display: inline-block;line-height: 1.2em;}#sk-container-id-2 div.sk-label-container {text-align: center;}#sk-container-id-2 div.sk-container {/* jupyter's `normalize.less` sets `[hidden] { display: none; }` but bootstrap.min.css set `[hidden] { display: none !important; }` so we also need the `!important` here to be able to override the default hidden behavior on the sphinx rendered scikit-learn.org. See: https://github.com/scikit-learn/scikit-learn/issues/21755 */display: inline-block !important;position: relative;}#sk-container-id-2 div.sk-text-repr-fallback {display: none;}</style><div id=\"sk-container-id-2\" class=\"sk-top-container\"><div class=\"sk-text-repr-fallback\"><pre>DecisionTreeClassifier(max_depth=3, random_state=69)</pre><b>In a Jupyter environment, please rerun this cell to show the HTML representation or trust the notebook. <br />On GitHub, the HTML representation is unable to render, please try loading this page with nbviewer.org.</b></div><div class=\"sk-container\" hidden><div class=\"sk-item\"><div class=\"sk-estimator sk-toggleable\"><input class=\"sk-toggleable__control sk-hidden--visually\" id=\"sk-estimator-id-2\" type=\"checkbox\" checked><label for=\"sk-estimator-id-2\" class=\"sk-toggleable__label sk-toggleable__label-arrow\">DecisionTreeClassifier</label><div class=\"sk-toggleable__content\"><pre>DecisionTreeClassifier(max_depth=3, random_state=69)</pre></div></div></div></div></div>"
      ],
      "text/plain": [
       "DecisionTreeClassifier(max_depth=3, random_state=69)"
      ]
     },
     "execution_count": 23,
     "metadata": {},
     "output_type": "execute_result"
    }
   ],
   "source": [
    "model = DecisionTreeClassifier(criterion = 'gini', max_depth=3, random_state = 69)\n",
    "model.fit(x_train, y_train)"
   ]
  },
  {
   "cell_type": "markdown",
   "id": "e8ae72d2",
   "metadata": {},
   "source": [
    "* We will now predict the accuracy of the model.\n",
    "* An Accuracy score of 80-85% is a good measure. \n",
    "* We can fine-tune the parameters to achieve higher accuracy scores.\n",
    "* For the sake of understanding, we will stick to what we get in our first iteration, and try to visualize the decision tree."
   ]
  },
  {
   "cell_type": "code",
   "execution_count": 24,
   "id": "6f822ba5",
   "metadata": {},
   "outputs": [],
   "source": [
    "y_pred = model.predict(x_test)"
   ]
  },
  {
   "cell_type": "code",
   "execution_count": 25,
   "id": "3c508295",
   "metadata": {},
   "outputs": [
    {
     "name": "stdout",
     "output_type": "stream",
     "text": [
      "Test Model Accuracy score with \"gini\" criterion is: 76.878612716763\n"
     ]
    }
   ],
   "source": [
    "print('Test Model Accuracy score with \"gini\" criterion is:', accuracy_score(y_test, y_pred) * 100)"
   ]
  },
  {
   "cell_type": "markdown",
   "id": "383b7347",
   "metadata": {},
   "source": [
    "* Our accuracy score is 76.87%, this is a really decent number for this model.\n",
    "* We will now visualize the decision tree."
   ]
  },
  {
   "cell_type": "code",
   "execution_count": 27,
   "id": "98bfd5e2",
   "metadata": {},
   "outputs": [
    {
     "data": {
      "text/plain": [
       "[Text(0.375, 0.875, 'x[3] <= 0.5\\ngini = 0.465\\nsamples = 1382\\nvalue = [313, 58, 958, 53]'),\n",
       " Text(0.25, 0.625, 'gini = 0.0\\nsamples = 452\\nvalue = [0, 0, 452, 0]'),\n",
       " Text(0.5, 0.625, 'x[5] <= 0.5\\ngini = 0.584\\nsamples = 930\\nvalue = [313, 58, 506, 53]'),\n",
       " Text(0.25, 0.375, 'x[0] <= 2.5\\ngini = 0.637\\nsamples = 311\\nvalue = [165, 27, 66, 53]'),\n",
       " Text(0.125, 0.125, 'gini = 0.622\\nsamples = 235\\nvalue = [129, 27, 26, 53]'),\n",
       " Text(0.375, 0.125, 'gini = 0.499\\nsamples = 76\\nvalue = [36, 0, 40, 0]'),\n",
       " Text(0.75, 0.375, 'x[5] <= 1.5\\ngini = 0.435\\nsamples = 619\\nvalue = [148, 31, 440, 0]'),\n",
       " Text(0.625, 0.125, 'gini = 0.0\\nsamples = 313\\nvalue = [0, 0, 313, 0]'),\n",
       " Text(0.875, 0.125, 'gini = 0.584\\nsamples = 306\\nvalue = [148, 31, 127, 0]')]"
      ]
     },
     "execution_count": 27,
     "metadata": {},
     "output_type": "execute_result"
    },
    {
     "data": {
      "image/png": "[encoded data removed]",
      "text/plain": [
       "<Figure size 1200x1200 with 1 Axes>"
      ]
     },
     "metadata": {},
     "output_type": "display_data"
    }
   ],
   "source": [
    "plt.figure(figsize=(12,12))\n",
    "tree.plot_tree(model.fit(x_train,y_train))"
   ]
  },
  {
   "cell_type": "markdown",
   "id": "beff6813",
   "metadata": {},
   "source": [
    "## Insights\n",
    "\n",
    "* Thus, we can see the final decision tree that has been generated for a maxmium depth of 3 levels.\n",
    "* Understanding this visual can help us understand how the prediction is being made.\n",
    "* If we increase the maximum depth, we can get a higher accuracy for our model.\n",
    "* Thus, decision trees help a lot in classifying data."
   ]
  },
  {
   "cell_type": "code",
   "execution_count": null,
   "id": "e2e9ce12",
   "metadata": {},
   "outputs": [],
   "source": []
  }
 ],
 "metadata": {
  "kernelspec": {
   "display_name": "Python 3 (ipykernel)",
   "language": "python",
   "name": "python3"
  },
  "language_info": {
   "codemirror_mode": {
    "name": "ipython",
    "version": 3
   },
   "file_extension": ".py",
   "mimetype": "text/x-python",
   "name": "python",
   "nbconvert_exporter": "python",
   "pygments_lexer": "ipython3",
   "version": "3.11.5"
  }
 },
 "nbformat": 4,
 "nbformat_minor": 5
}
